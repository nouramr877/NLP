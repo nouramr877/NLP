{
  "nbformat": 4,
  "nbformat_minor": 0,
  "metadata": {
    "colab": {
      "provenance": []
    },
    "kernelspec": {
      "name": "python3",
      "display_name": "Python 3"
    },
    "language_info": {
      "name": "python"
    }
  },
  "cells": [
    {
      "cell_type": "code",
      "execution_count": null,
      "metadata": {
        "id": "WiBuUD4fLd8D"
      },
      "outputs": [],
      "source": [
        "from keras.preprocessing import sequence\n",
        "from keras.models import Sequential\n",
        "from keras.layers import Dense, Dropout, Embedding, SimpleRNN\n",
        "from keras.datasets import imdb\n",
        "from keras.callbacks import TensorBoard"
      ]
    },
    {
      "cell_type": "code",
      "source": [
        "file = open('Royal_data.txt', 'r')\n",
        "royal_data = file.readlines()\n",
        "print(royal_data)\n",
        "file.close()"
      ],
      "metadata": {
        "id": "Jw-uGTIARJag",
        "colab": {
          "base_uri": "https://localhost:8080/"
        },
        "outputId": "98167fd3-dc23-461d-c3fc-9ea25d3aa6f0"
      },
      "execution_count": null,
      "outputs": [
        {
          "output_type": "stream",
          "name": "stdout",
          "text": [
            "['The future king is the prince\\n', 'Daughter is the princess\\n', 'Son is the prince\\n', 'Only a man can be a king\\n', 'Only a woman can be a queen\\n', 'The princess will be a queen\\n', 'The prince is a strong man\\n', 'The princess is a beautiful woman\\n', 'Prince is only a boy now\\n', 'Prince will be king\\n', 'A boy will be a man']\n"
          ]
        }
      ]
    },
    {
      "cell_type": "markdown",
      "source": [
        "**Removing '\\n' from the end of every sentence and convert the sentence into**"
      ],
      "metadata": {
        "id": "KmHeSzUeFXbv"
      }
    },
    {
      "cell_type": "code",
      "source": [
        "for i in range(len(royal_data)):\n",
        "    royal_data[i] = royal_data[i].lower().replace('\\n','')\n",
        "\n",
        "print(royal_data)"
      ],
      "metadata": {
        "id": "sxmDhgVZRJdJ",
        "colab": {
          "base_uri": "https://localhost:8080/"
        },
        "outputId": "4cd2a700-d197-47cd-d22e-c40ed1378176"
      },
      "execution_count": null,
      "outputs": [
        {
          "output_type": "stream",
          "name": "stdout",
          "text": [
            "['the future king is the prince', 'daughter is the princess', 'son is the prince', 'only a man can be a king', 'only a woman can be a queen', 'the princess will be a queen', 'the prince is a strong man', 'the princess is a beautiful woman', 'prince is only a boy now', 'prince will be king', 'a boy will be a man']\n"
          ]
        }
      ]
    },
    {
      "cell_type": "markdown",
      "source": [
        "**Removing stop words**"
      ],
      "metadata": {
        "id": "-_THmhw-GdC7"
      }
    },
    {
      "cell_type": "code",
      "source": [
        "stopwords = ['the', 'is', 'will', 'be', 'a', 'only', 'can', 'their', 'now', 'and', 'at', 'it']\n",
        "\n",
        "filtered_data = []\n",
        "\n",
        "\n",
        "for sent in royal_data:             # sent[0]= 'the future king is the prince'\n",
        "    temp = []\n",
        "    for word in sent.split():       #word[0] = 'the'\n",
        "        if word not in stopwords:\n",
        "            temp.append(word)\n",
        "            print(temp)\n",
        "    filtered_data.append(temp)\n",
        "\n",
        "print(filtered_data)"
      ],
      "metadata": {
        "id": "QMObYaoORJiW",
        "colab": {
          "base_uri": "https://localhost:8080/"
        },
        "outputId": "9392686f-5b09-4727-d1cb-52ba2cfc9c9b"
      },
      "execution_count": null,
      "outputs": [
        {
          "output_type": "stream",
          "name": "stdout",
          "text": [
            "['future']\n",
            "['future', 'king']\n",
            "['future', 'king', 'prince']\n",
            "['daughter']\n",
            "['daughter', 'princess']\n",
            "['son']\n",
            "['son', 'prince']\n",
            "['man']\n",
            "['man', 'king']\n",
            "['woman']\n",
            "['woman', 'queen']\n",
            "['princess']\n",
            "['princess', 'queen']\n",
            "['prince']\n",
            "['prince', 'strong']\n",
            "['prince', 'strong', 'man']\n",
            "['princess']\n",
            "['princess', 'beautiful']\n",
            "['princess', 'beautiful', 'woman']\n",
            "['prince']\n",
            "['prince', 'boy']\n",
            "['prince']\n",
            "['prince', 'king']\n",
            "['boy']\n",
            "['boy', 'man']\n",
            "[['future', 'king', 'prince'], ['daughter', 'princess'], ['son', 'prince'], ['man', 'king'], ['woman', 'queen'], ['princess', 'queen'], ['prince', 'strong', 'man'], ['princess', 'beautiful', 'woman'], ['prince', 'boy'], ['prince', 'king'], ['boy', 'man']]\n"
          ]
        }
      ]
    },
    {
      "cell_type": "markdown",
      "source": [
        "**Creating bigrams**"
      ],
      "metadata": {
        "id": "j2N8kKAWHdms"
      }
    },
    {
      "cell_type": "code",
      "source": [
        "for words_list in filtered_data:\n",
        "    for i in range(len(words_list) - 1):\n",
        "      for j in range(i+1, len(words_list)):\n",
        "         print(words_list[i],words_list[j])"
      ],
      "metadata": {
        "colab": {
          "base_uri": "https://localhost:8080/"
        },
        "id": "-1e6iuCWGZ6F",
        "outputId": "db0d3cc8-05eb-4ba5-a88f-3a422421e81e"
      },
      "execution_count": null,
      "outputs": [
        {
          "output_type": "stream",
          "name": "stdout",
          "text": [
            "future king\n",
            "future prince\n",
            "king prince\n",
            "daughter princess\n",
            "son prince\n",
            "man king\n",
            "woman queen\n",
            "princess queen\n",
            "prince strong\n",
            "prince man\n",
            "strong man\n",
            "princess beautiful\n",
            "princess woman\n",
            "beautiful woman\n",
            "prince boy\n",
            "prince king\n",
            "boy man\n"
          ]
        }
      ]
    },
    {
      "cell_type": "code",
      "source": [
        "bigrams = []\n",
        "\n",
        "\n",
        "for words_list in filtered_data:\n",
        "    for i in range(len(words_list) - 1):  #len(words_list) - 1 =2 so at i=0 words_list[i] = future\n",
        "        for j in range(i+1, len(words_list)): #at j = i+1 = 1  words_list[j]= king\n",
        "            bigrams.append([words_list[i], words_list[j]]) #at i=0 , j=1 ['future', 'king']  then i=0 , j=2 ['future', 'prince']\n",
        "            bigrams.append([words_list[j], words_list[i]])\n",
        "\n",
        "\n",
        "print(bigrams)\n",
        "len(words_list[0])"
      ],
      "metadata": {
        "colab": {
          "base_uri": "https://localhost:8080/"
        },
        "id": "KXZJfiwcGZ0O",
        "outputId": "0f3a3c84-b762-40f4-c31e-8e546014ab8c"
      },
      "execution_count": null,
      "outputs": [
        {
          "output_type": "stream",
          "name": "stdout",
          "text": [
            "[['future', 'king'], ['king', 'future'], ['future', 'prince'], ['prince', 'future'], ['king', 'prince'], ['prince', 'king'], ['daughter', 'princess'], ['princess', 'daughter'], ['son', 'prince'], ['prince', 'son'], ['man', 'king'], ['king', 'man'], ['woman', 'queen'], ['queen', 'woman'], ['princess', 'queen'], ['queen', 'princess'], ['prince', 'strong'], ['strong', 'prince'], ['prince', 'man'], ['man', 'prince'], ['strong', 'man'], ['man', 'strong'], ['princess', 'beautiful'], ['beautiful', 'princess'], ['princess', 'woman'], ['woman', 'princess'], ['beautiful', 'woman'], ['woman', 'beautiful'], ['prince', 'boy'], ['boy', 'prince'], ['prince', 'king'], ['king', 'prince'], ['boy', 'man'], ['man', 'boy']]\n"
          ]
        },
        {
          "output_type": "execute_result",
          "data": {
            "text/plain": [
              "3"
            ]
          },
          "metadata": {},
          "execution_count": 69
        }
      ]
    },
    {
      "cell_type": "markdown",
      "source": [
        "**Getting a list of unique words**"
      ],
      "metadata": {
        "id": "TaDAHLSSJHcb"
      }
    },
    {
      "cell_type": "code",
      "source": [
        "all_words = []\n",
        "\n",
        "for bi in bigrams:\n",
        "    all_words.extend(bi)\n",
        "    print(all_words)"
      ],
      "metadata": {
        "colab": {
          "base_uri": "https://localhost:8080/"
        },
        "id": "zAn40N8oGaCr",
        "outputId": "40a798c5-dc14-4bd2-d14d-087545b45062"
      },
      "execution_count": null,
      "outputs": [
        {
          "output_type": "stream",
          "name": "stdout",
          "text": [
            "['future', 'king']\n",
            "['future', 'king', 'king', 'future']\n",
            "['future', 'king', 'king', 'future', 'future', 'prince']\n",
            "['future', 'king', 'king', 'future', 'future', 'prince', 'prince', 'future']\n",
            "['future', 'king', 'king', 'future', 'future', 'prince', 'prince', 'future', 'king', 'prince']\n",
            "['future', 'king', 'king', 'future', 'future', 'prince', 'prince', 'future', 'king', 'prince', 'prince', 'king']\n",
            "['future', 'king', 'king', 'future', 'future', 'prince', 'prince', 'future', 'king', 'prince', 'prince', 'king', 'daughter', 'princess']\n",
            "['future', 'king', 'king', 'future', 'future', 'prince', 'prince', 'future', 'king', 'prince', 'prince', 'king', 'daughter', 'princess', 'princess', 'daughter']\n",
            "['future', 'king', 'king', 'future', 'future', 'prince', 'prince', 'future', 'king', 'prince', 'prince', 'king', 'daughter', 'princess', 'princess', 'daughter', 'son', 'prince']\n",
            "['future', 'king', 'king', 'future', 'future', 'prince', 'prince', 'future', 'king', 'prince', 'prince', 'king', 'daughter', 'princess', 'princess', 'daughter', 'son', 'prince', 'prince', 'son']\n",
            "['future', 'king', 'king', 'future', 'future', 'prince', 'prince', 'future', 'king', 'prince', 'prince', 'king', 'daughter', 'princess', 'princess', 'daughter', 'son', 'prince', 'prince', 'son', 'man', 'king']\n",
            "['future', 'king', 'king', 'future', 'future', 'prince', 'prince', 'future', 'king', 'prince', 'prince', 'king', 'daughter', 'princess', 'princess', 'daughter', 'son', 'prince', 'prince', 'son', 'man', 'king', 'king', 'man']\n",
            "['future', 'king', 'king', 'future', 'future', 'prince', 'prince', 'future', 'king', 'prince', 'prince', 'king', 'daughter', 'princess', 'princess', 'daughter', 'son', 'prince', 'prince', 'son', 'man', 'king', 'king', 'man', 'woman', 'queen']\n",
            "['future', 'king', 'king', 'future', 'future', 'prince', 'prince', 'future', 'king', 'prince', 'prince', 'king', 'daughter', 'princess', 'princess', 'daughter', 'son', 'prince', 'prince', 'son', 'man', 'king', 'king', 'man', 'woman', 'queen', 'queen', 'woman']\n",
            "['future', 'king', 'king', 'future', 'future', 'prince', 'prince', 'future', 'king', 'prince', 'prince', 'king', 'daughter', 'princess', 'princess', 'daughter', 'son', 'prince', 'prince', 'son', 'man', 'king', 'king', 'man', 'woman', 'queen', 'queen', 'woman', 'princess', 'queen']\n",
            "['future', 'king', 'king', 'future', 'future', 'prince', 'prince', 'future', 'king', 'prince', 'prince', 'king', 'daughter', 'princess', 'princess', 'daughter', 'son', 'prince', 'prince', 'son', 'man', 'king', 'king', 'man', 'woman', 'queen', 'queen', 'woman', 'princess', 'queen', 'queen', 'princess']\n",
            "['future', 'king', 'king', 'future', 'future', 'prince', 'prince', 'future', 'king', 'prince', 'prince', 'king', 'daughter', 'princess', 'princess', 'daughter', 'son', 'prince', 'prince', 'son', 'man', 'king', 'king', 'man', 'woman', 'queen', 'queen', 'woman', 'princess', 'queen', 'queen', 'princess', 'prince', 'strong']\n",
            "['future', 'king', 'king', 'future', 'future', 'prince', 'prince', 'future', 'king', 'prince', 'prince', 'king', 'daughter', 'princess', 'princess', 'daughter', 'son', 'prince', 'prince', 'son', 'man', 'king', 'king', 'man', 'woman', 'queen', 'queen', 'woman', 'princess', 'queen', 'queen', 'princess', 'prince', 'strong', 'strong', 'prince']\n",
            "['future', 'king', 'king', 'future', 'future', 'prince', 'prince', 'future', 'king', 'prince', 'prince', 'king', 'daughter', 'princess', 'princess', 'daughter', 'son', 'prince', 'prince', 'son', 'man', 'king', 'king', 'man', 'woman', 'queen', 'queen', 'woman', 'princess', 'queen', 'queen', 'princess', 'prince', 'strong', 'strong', 'prince', 'prince', 'man']\n",
            "['future', 'king', 'king', 'future', 'future', 'prince', 'prince', 'future', 'king', 'prince', 'prince', 'king', 'daughter', 'princess', 'princess', 'daughter', 'son', 'prince', 'prince', 'son', 'man', 'king', 'king', 'man', 'woman', 'queen', 'queen', 'woman', 'princess', 'queen', 'queen', 'princess', 'prince', 'strong', 'strong', 'prince', 'prince', 'man', 'man', 'prince']\n",
            "['future', 'king', 'king', 'future', 'future', 'prince', 'prince', 'future', 'king', 'prince', 'prince', 'king', 'daughter', 'princess', 'princess', 'daughter', 'son', 'prince', 'prince', 'son', 'man', 'king', 'king', 'man', 'woman', 'queen', 'queen', 'woman', 'princess', 'queen', 'queen', 'princess', 'prince', 'strong', 'strong', 'prince', 'prince', 'man', 'man', 'prince', 'strong', 'man']\n",
            "['future', 'king', 'king', 'future', 'future', 'prince', 'prince', 'future', 'king', 'prince', 'prince', 'king', 'daughter', 'princess', 'princess', 'daughter', 'son', 'prince', 'prince', 'son', 'man', 'king', 'king', 'man', 'woman', 'queen', 'queen', 'woman', 'princess', 'queen', 'queen', 'princess', 'prince', 'strong', 'strong', 'prince', 'prince', 'man', 'man', 'prince', 'strong', 'man', 'man', 'strong']\n",
            "['future', 'king', 'king', 'future', 'future', 'prince', 'prince', 'future', 'king', 'prince', 'prince', 'king', 'daughter', 'princess', 'princess', 'daughter', 'son', 'prince', 'prince', 'son', 'man', 'king', 'king', 'man', 'woman', 'queen', 'queen', 'woman', 'princess', 'queen', 'queen', 'princess', 'prince', 'strong', 'strong', 'prince', 'prince', 'man', 'man', 'prince', 'strong', 'man', 'man', 'strong', 'princess', 'beautiful']\n",
            "['future', 'king', 'king', 'future', 'future', 'prince', 'prince', 'future', 'king', 'prince', 'prince', 'king', 'daughter', 'princess', 'princess', 'daughter', 'son', 'prince', 'prince', 'son', 'man', 'king', 'king', 'man', 'woman', 'queen', 'queen', 'woman', 'princess', 'queen', 'queen', 'princess', 'prince', 'strong', 'strong', 'prince', 'prince', 'man', 'man', 'prince', 'strong', 'man', 'man', 'strong', 'princess', 'beautiful', 'beautiful', 'princess']\n",
            "['future', 'king', 'king', 'future', 'future', 'prince', 'prince', 'future', 'king', 'prince', 'prince', 'king', 'daughter', 'princess', 'princess', 'daughter', 'son', 'prince', 'prince', 'son', 'man', 'king', 'king', 'man', 'woman', 'queen', 'queen', 'woman', 'princess', 'queen', 'queen', 'princess', 'prince', 'strong', 'strong', 'prince', 'prince', 'man', 'man', 'prince', 'strong', 'man', 'man', 'strong', 'princess', 'beautiful', 'beautiful', 'princess', 'princess', 'woman']\n",
            "['future', 'king', 'king', 'future', 'future', 'prince', 'prince', 'future', 'king', 'prince', 'prince', 'king', 'daughter', 'princess', 'princess', 'daughter', 'son', 'prince', 'prince', 'son', 'man', 'king', 'king', 'man', 'woman', 'queen', 'queen', 'woman', 'princess', 'queen', 'queen', 'princess', 'prince', 'strong', 'strong', 'prince', 'prince', 'man', 'man', 'prince', 'strong', 'man', 'man', 'strong', 'princess', 'beautiful', 'beautiful', 'princess', 'princess', 'woman', 'woman', 'princess']\n",
            "['future', 'king', 'king', 'future', 'future', 'prince', 'prince', 'future', 'king', 'prince', 'prince', 'king', 'daughter', 'princess', 'princess', 'daughter', 'son', 'prince', 'prince', 'son', 'man', 'king', 'king', 'man', 'woman', 'queen', 'queen', 'woman', 'princess', 'queen', 'queen', 'princess', 'prince', 'strong', 'strong', 'prince', 'prince', 'man', 'man', 'prince', 'strong', 'man', 'man', 'strong', 'princess', 'beautiful', 'beautiful', 'princess', 'princess', 'woman', 'woman', 'princess', 'beautiful', 'woman']\n",
            "['future', 'king', 'king', 'future', 'future', 'prince', 'prince', 'future', 'king', 'prince', 'prince', 'king', 'daughter', 'princess', 'princess', 'daughter', 'son', 'prince', 'prince', 'son', 'man', 'king', 'king', 'man', 'woman', 'queen', 'queen', 'woman', 'princess', 'queen', 'queen', 'princess', 'prince', 'strong', 'strong', 'prince', 'prince', 'man', 'man', 'prince', 'strong', 'man', 'man', 'strong', 'princess', 'beautiful', 'beautiful', 'princess', 'princess', 'woman', 'woman', 'princess', 'beautiful', 'woman', 'woman', 'beautiful']\n",
            "['future', 'king', 'king', 'future', 'future', 'prince', 'prince', 'future', 'king', 'prince', 'prince', 'king', 'daughter', 'princess', 'princess', 'daughter', 'son', 'prince', 'prince', 'son', 'man', 'king', 'king', 'man', 'woman', 'queen', 'queen', 'woman', 'princess', 'queen', 'queen', 'princess', 'prince', 'strong', 'strong', 'prince', 'prince', 'man', 'man', 'prince', 'strong', 'man', 'man', 'strong', 'princess', 'beautiful', 'beautiful', 'princess', 'princess', 'woman', 'woman', 'princess', 'beautiful', 'woman', 'woman', 'beautiful', 'prince', 'boy']\n",
            "['future', 'king', 'king', 'future', 'future', 'prince', 'prince', 'future', 'king', 'prince', 'prince', 'king', 'daughter', 'princess', 'princess', 'daughter', 'son', 'prince', 'prince', 'son', 'man', 'king', 'king', 'man', 'woman', 'queen', 'queen', 'woman', 'princess', 'queen', 'queen', 'princess', 'prince', 'strong', 'strong', 'prince', 'prince', 'man', 'man', 'prince', 'strong', 'man', 'man', 'strong', 'princess', 'beautiful', 'beautiful', 'princess', 'princess', 'woman', 'woman', 'princess', 'beautiful', 'woman', 'woman', 'beautiful', 'prince', 'boy', 'boy', 'prince']\n",
            "['future', 'king', 'king', 'future', 'future', 'prince', 'prince', 'future', 'king', 'prince', 'prince', 'king', 'daughter', 'princess', 'princess', 'daughter', 'son', 'prince', 'prince', 'son', 'man', 'king', 'king', 'man', 'woman', 'queen', 'queen', 'woman', 'princess', 'queen', 'queen', 'princess', 'prince', 'strong', 'strong', 'prince', 'prince', 'man', 'man', 'prince', 'strong', 'man', 'man', 'strong', 'princess', 'beautiful', 'beautiful', 'princess', 'princess', 'woman', 'woman', 'princess', 'beautiful', 'woman', 'woman', 'beautiful', 'prince', 'boy', 'boy', 'prince', 'prince', 'king']\n",
            "['future', 'king', 'king', 'future', 'future', 'prince', 'prince', 'future', 'king', 'prince', 'prince', 'king', 'daughter', 'princess', 'princess', 'daughter', 'son', 'prince', 'prince', 'son', 'man', 'king', 'king', 'man', 'woman', 'queen', 'queen', 'woman', 'princess', 'queen', 'queen', 'princess', 'prince', 'strong', 'strong', 'prince', 'prince', 'man', 'man', 'prince', 'strong', 'man', 'man', 'strong', 'princess', 'beautiful', 'beautiful', 'princess', 'princess', 'woman', 'woman', 'princess', 'beautiful', 'woman', 'woman', 'beautiful', 'prince', 'boy', 'boy', 'prince', 'prince', 'king', 'king', 'prince']\n",
            "['future', 'king', 'king', 'future', 'future', 'prince', 'prince', 'future', 'king', 'prince', 'prince', 'king', 'daughter', 'princess', 'princess', 'daughter', 'son', 'prince', 'prince', 'son', 'man', 'king', 'king', 'man', 'woman', 'queen', 'queen', 'woman', 'princess', 'queen', 'queen', 'princess', 'prince', 'strong', 'strong', 'prince', 'prince', 'man', 'man', 'prince', 'strong', 'man', 'man', 'strong', 'princess', 'beautiful', 'beautiful', 'princess', 'princess', 'woman', 'woman', 'princess', 'beautiful', 'woman', 'woman', 'beautiful', 'prince', 'boy', 'boy', 'prince', 'prince', 'king', 'king', 'prince', 'boy', 'man']\n",
            "['future', 'king', 'king', 'future', 'future', 'prince', 'prince', 'future', 'king', 'prince', 'prince', 'king', 'daughter', 'princess', 'princess', 'daughter', 'son', 'prince', 'prince', 'son', 'man', 'king', 'king', 'man', 'woman', 'queen', 'queen', 'woman', 'princess', 'queen', 'queen', 'princess', 'prince', 'strong', 'strong', 'prince', 'prince', 'man', 'man', 'prince', 'strong', 'man', 'man', 'strong', 'princess', 'beautiful', 'beautiful', 'princess', 'princess', 'woman', 'woman', 'princess', 'beautiful', 'woman', 'woman', 'beautiful', 'prince', 'boy', 'boy', 'prince', 'prince', 'king', 'king', 'prince', 'boy', 'man', 'man', 'boy']\n"
          ]
        }
      ]
    },
    {
      "cell_type": "code",
      "source": [
        "all_words = []\n",
        "for bi in bigrams:\n",
        "    all_words.extend(bi)\n",
        "\n",
        "all_words = list(set(all_words))\n",
        "all_words.sort()\n",
        "\n",
        "print(all_words)\n",
        "print(\"Total number of unique words are:\", len(all_words))"
      ],
      "metadata": {
        "colab": {
          "base_uri": "https://localhost:8080/"
        },
        "id": "2-GWgQeNGZ_2",
        "outputId": "38ca0dc4-4b95-4d62-ecff-c7872383fc86"
      },
      "execution_count": null,
      "outputs": [
        {
          "output_type": "stream",
          "name": "stdout",
          "text": [
            "['beautiful', 'boy', 'daughter', 'future', 'king', 'man', 'prince', 'princess', 'queen', 'son', 'strong', 'woman']\n",
            "Total number of unique words are: 12\n"
          ]
        }
      ]
    },
    {
      "cell_type": "markdown",
      "source": [
        "**Creating dictionary of words**"
      ],
      "metadata": {
        "id": "6PAJV97CJp9-"
      }
    },
    {
      "cell_type": "code",
      "source": [
        "words_dict = {}\n",
        "\n",
        "counter = 0\n",
        "for word in all_words:\n",
        "    words_dict[word] = counter\n",
        "    counter += 1\n",
        "\n",
        "print(words_dict)"
      ],
      "metadata": {
        "colab": {
          "base_uri": "https://localhost:8080/"
        },
        "id": "sISrvpKHJuJa",
        "outputId": "b903921d-07d8-42b7-b499-b1b99cb85c5d"
      },
      "execution_count": null,
      "outputs": [
        {
          "output_type": "stream",
          "name": "stdout",
          "text": [
            "{'beautiful': 0, 'boy': 1, 'daughter': 2, 'future': 3, 'king': 4, 'man': 5, 'prince': 6, 'princess': 7, 'queen': 8, 'son': 9, 'strong': 10, 'woman': 11}\n"
          ]
        }
      ]
    },
    {
      "cell_type": "markdown",
      "source": [
        "**Performing one-hot encoding**"
      ],
      "metadata": {
        "id": "J_o9qDTRKIto"
      }
    },
    {
      "cell_type": "code",
      "source": [
        "import numpy as np\n",
        "\n",
        "onehot_data = np.zeros((len(all_words), len(all_words)))\n",
        "\n",
        "for i in range(len(all_words)):\n",
        "    onehot_data[i][i] = 1\n",
        "    print(onehot_data)"
      ],
      "metadata": {
        "colab": {
          "base_uri": "https://localhost:8080/"
        },
        "id": "rMdfCF16JuTs",
        "outputId": "0ab039ab-7eee-4a1e-c387-69fa601af04e"
      },
      "execution_count": null,
      "outputs": [
        {
          "output_type": "stream",
          "name": "stdout",
          "text": [
            "[[1. 0. 0. 0. 0. 0. 0. 0. 0. 0. 0. 0.]\n",
            " [0. 0. 0. 0. 0. 0. 0. 0. 0. 0. 0. 0.]\n",
            " [0. 0. 0. 0. 0. 0. 0. 0. 0. 0. 0. 0.]\n",
            " [0. 0. 0. 0. 0. 0. 0. 0. 0. 0. 0. 0.]\n",
            " [0. 0. 0. 0. 0. 0. 0. 0. 0. 0. 0. 0.]\n",
            " [0. 0. 0. 0. 0. 0. 0. 0. 0. 0. 0. 0.]\n",
            " [0. 0. 0. 0. 0. 0. 0. 0. 0. 0. 0. 0.]\n",
            " [0. 0. 0. 0. 0. 0. 0. 0. 0. 0. 0. 0.]\n",
            " [0. 0. 0. 0. 0. 0. 0. 0. 0. 0. 0. 0.]\n",
            " [0. 0. 0. 0. 0. 0. 0. 0. 0. 0. 0. 0.]\n",
            " [0. 0. 0. 0. 0. 0. 0. 0. 0. 0. 0. 0.]\n",
            " [0. 0. 0. 0. 0. 0. 0. 0. 0. 0. 0. 0.]]\n",
            "[[1. 0. 0. 0. 0. 0. 0. 0. 0. 0. 0. 0.]\n",
            " [0. 1. 0. 0. 0. 0. 0. 0. 0. 0. 0. 0.]\n",
            " [0. 0. 0. 0. 0. 0. 0. 0. 0. 0. 0. 0.]\n",
            " [0. 0. 0. 0. 0. 0. 0. 0. 0. 0. 0. 0.]\n",
            " [0. 0. 0. 0. 0. 0. 0. 0. 0. 0. 0. 0.]\n",
            " [0. 0. 0. 0. 0. 0. 0. 0. 0. 0. 0. 0.]\n",
            " [0. 0. 0. 0. 0. 0. 0. 0. 0. 0. 0. 0.]\n",
            " [0. 0. 0. 0. 0. 0. 0. 0. 0. 0. 0. 0.]\n",
            " [0. 0. 0. 0. 0. 0. 0. 0. 0. 0. 0. 0.]\n",
            " [0. 0. 0. 0. 0. 0. 0. 0. 0. 0. 0. 0.]\n",
            " [0. 0. 0. 0. 0. 0. 0. 0. 0. 0. 0. 0.]\n",
            " [0. 0. 0. 0. 0. 0. 0. 0. 0. 0. 0. 0.]]\n",
            "[[1. 0. 0. 0. 0. 0. 0. 0. 0. 0. 0. 0.]\n",
            " [0. 1. 0. 0. 0. 0. 0. 0. 0. 0. 0. 0.]\n",
            " [0. 0. 1. 0. 0. 0. 0. 0. 0. 0. 0. 0.]\n",
            " [0. 0. 0. 0. 0. 0. 0. 0. 0. 0. 0. 0.]\n",
            " [0. 0. 0. 0. 0. 0. 0. 0. 0. 0. 0. 0.]\n",
            " [0. 0. 0. 0. 0. 0. 0. 0. 0. 0. 0. 0.]\n",
            " [0. 0. 0. 0. 0. 0. 0. 0. 0. 0. 0. 0.]\n",
            " [0. 0. 0. 0. 0. 0. 0. 0. 0. 0. 0. 0.]\n",
            " [0. 0. 0. 0. 0. 0. 0. 0. 0. 0. 0. 0.]\n",
            " [0. 0. 0. 0. 0. 0. 0. 0. 0. 0. 0. 0.]\n",
            " [0. 0. 0. 0. 0. 0. 0. 0. 0. 0. 0. 0.]\n",
            " [0. 0. 0. 0. 0. 0. 0. 0. 0. 0. 0. 0.]]\n",
            "[[1. 0. 0. 0. 0. 0. 0. 0. 0. 0. 0. 0.]\n",
            " [0. 1. 0. 0. 0. 0. 0. 0. 0. 0. 0. 0.]\n",
            " [0. 0. 1. 0. 0. 0. 0. 0. 0. 0. 0. 0.]\n",
            " [0. 0. 0. 1. 0. 0. 0. 0. 0. 0. 0. 0.]\n",
            " [0. 0. 0. 0. 0. 0. 0. 0. 0. 0. 0. 0.]\n",
            " [0. 0. 0. 0. 0. 0. 0. 0. 0. 0. 0. 0.]\n",
            " [0. 0. 0. 0. 0. 0. 0. 0. 0. 0. 0. 0.]\n",
            " [0. 0. 0. 0. 0. 0. 0. 0. 0. 0. 0. 0.]\n",
            " [0. 0. 0. 0. 0. 0. 0. 0. 0. 0. 0. 0.]\n",
            " [0. 0. 0. 0. 0. 0. 0. 0. 0. 0. 0. 0.]\n",
            " [0. 0. 0. 0. 0. 0. 0. 0. 0. 0. 0. 0.]\n",
            " [0. 0. 0. 0. 0. 0. 0. 0. 0. 0. 0. 0.]]\n",
            "[[1. 0. 0. 0. 0. 0. 0. 0. 0. 0. 0. 0.]\n",
            " [0. 1. 0. 0. 0. 0. 0. 0. 0. 0. 0. 0.]\n",
            " [0. 0. 1. 0. 0. 0. 0. 0. 0. 0. 0. 0.]\n",
            " [0. 0. 0. 1. 0. 0. 0. 0. 0. 0. 0. 0.]\n",
            " [0. 0. 0. 0. 1. 0. 0. 0. 0. 0. 0. 0.]\n",
            " [0. 0. 0. 0. 0. 0. 0. 0. 0. 0. 0. 0.]\n",
            " [0. 0. 0. 0. 0. 0. 0. 0. 0. 0. 0. 0.]\n",
            " [0. 0. 0. 0. 0. 0. 0. 0. 0. 0. 0. 0.]\n",
            " [0. 0. 0. 0. 0. 0. 0. 0. 0. 0. 0. 0.]\n",
            " [0. 0. 0. 0. 0. 0. 0. 0. 0. 0. 0. 0.]\n",
            " [0. 0. 0. 0. 0. 0. 0. 0. 0. 0. 0. 0.]\n",
            " [0. 0. 0. 0. 0. 0. 0. 0. 0. 0. 0. 0.]]\n",
            "[[1. 0. 0. 0. 0. 0. 0. 0. 0. 0. 0. 0.]\n",
            " [0. 1. 0. 0. 0. 0. 0. 0. 0. 0. 0. 0.]\n",
            " [0. 0. 1. 0. 0. 0. 0. 0. 0. 0. 0. 0.]\n",
            " [0. 0. 0. 1. 0. 0. 0. 0. 0. 0. 0. 0.]\n",
            " [0. 0. 0. 0. 1. 0. 0. 0. 0. 0. 0. 0.]\n",
            " [0. 0. 0. 0. 0. 1. 0. 0. 0. 0. 0. 0.]\n",
            " [0. 0. 0. 0. 0. 0. 0. 0. 0. 0. 0. 0.]\n",
            " [0. 0. 0. 0. 0. 0. 0. 0. 0. 0. 0. 0.]\n",
            " [0. 0. 0. 0. 0. 0. 0. 0. 0. 0. 0. 0.]\n",
            " [0. 0. 0. 0. 0. 0. 0. 0. 0. 0. 0. 0.]\n",
            " [0. 0. 0. 0. 0. 0. 0. 0. 0. 0. 0. 0.]\n",
            " [0. 0. 0. 0. 0. 0. 0. 0. 0. 0. 0. 0.]]\n",
            "[[1. 0. 0. 0. 0. 0. 0. 0. 0. 0. 0. 0.]\n",
            " [0. 1. 0. 0. 0. 0. 0. 0. 0. 0. 0. 0.]\n",
            " [0. 0. 1. 0. 0. 0. 0. 0. 0. 0. 0. 0.]\n",
            " [0. 0. 0. 1. 0. 0. 0. 0. 0. 0. 0. 0.]\n",
            " [0. 0. 0. 0. 1. 0. 0. 0. 0. 0. 0. 0.]\n",
            " [0. 0. 0. 0. 0. 1. 0. 0. 0. 0. 0. 0.]\n",
            " [0. 0. 0. 0. 0. 0. 1. 0. 0. 0. 0. 0.]\n",
            " [0. 0. 0. 0. 0. 0. 0. 0. 0. 0. 0. 0.]\n",
            " [0. 0. 0. 0. 0. 0. 0. 0. 0. 0. 0. 0.]\n",
            " [0. 0. 0. 0. 0. 0. 0. 0. 0. 0. 0. 0.]\n",
            " [0. 0. 0. 0. 0. 0. 0. 0. 0. 0. 0. 0.]\n",
            " [0. 0. 0. 0. 0. 0. 0. 0. 0. 0. 0. 0.]]\n",
            "[[1. 0. 0. 0. 0. 0. 0. 0. 0. 0. 0. 0.]\n",
            " [0. 1. 0. 0. 0. 0. 0. 0. 0. 0. 0. 0.]\n",
            " [0. 0. 1. 0. 0. 0. 0. 0. 0. 0. 0. 0.]\n",
            " [0. 0. 0. 1. 0. 0. 0. 0. 0. 0. 0. 0.]\n",
            " [0. 0. 0. 0. 1. 0. 0. 0. 0. 0. 0. 0.]\n",
            " [0. 0. 0. 0. 0. 1. 0. 0. 0. 0. 0. 0.]\n",
            " [0. 0. 0. 0. 0. 0. 1. 0. 0. 0. 0. 0.]\n",
            " [0. 0. 0. 0. 0. 0. 0. 1. 0. 0. 0. 0.]\n",
            " [0. 0. 0. 0. 0. 0. 0. 0. 0. 0. 0. 0.]\n",
            " [0. 0. 0. 0. 0. 0. 0. 0. 0. 0. 0. 0.]\n",
            " [0. 0. 0. 0. 0. 0. 0. 0. 0. 0. 0. 0.]\n",
            " [0. 0. 0. 0. 0. 0. 0. 0. 0. 0. 0. 0.]]\n",
            "[[1. 0. 0. 0. 0. 0. 0. 0. 0. 0. 0. 0.]\n",
            " [0. 1. 0. 0. 0. 0. 0. 0. 0. 0. 0. 0.]\n",
            " [0. 0. 1. 0. 0. 0. 0. 0. 0. 0. 0. 0.]\n",
            " [0. 0. 0. 1. 0. 0. 0. 0. 0. 0. 0. 0.]\n",
            " [0. 0. 0. 0. 1. 0. 0. 0. 0. 0. 0. 0.]\n",
            " [0. 0. 0. 0. 0. 1. 0. 0. 0. 0. 0. 0.]\n",
            " [0. 0. 0. 0. 0. 0. 1. 0. 0. 0. 0. 0.]\n",
            " [0. 0. 0. 0. 0. 0. 0. 1. 0. 0. 0. 0.]\n",
            " [0. 0. 0. 0. 0. 0. 0. 0. 1. 0. 0. 0.]\n",
            " [0. 0. 0. 0. 0. 0. 0. 0. 0. 0. 0. 0.]\n",
            " [0. 0. 0. 0. 0. 0. 0. 0. 0. 0. 0. 0.]\n",
            " [0. 0. 0. 0. 0. 0. 0. 0. 0. 0. 0. 0.]]\n",
            "[[1. 0. 0. 0. 0. 0. 0. 0. 0. 0. 0. 0.]\n",
            " [0. 1. 0. 0. 0. 0. 0. 0. 0. 0. 0. 0.]\n",
            " [0. 0. 1. 0. 0. 0. 0. 0. 0. 0. 0. 0.]\n",
            " [0. 0. 0. 1. 0. 0. 0. 0. 0. 0. 0. 0.]\n",
            " [0. 0. 0. 0. 1. 0. 0. 0. 0. 0. 0. 0.]\n",
            " [0. 0. 0. 0. 0. 1. 0. 0. 0. 0. 0. 0.]\n",
            " [0. 0. 0. 0. 0. 0. 1. 0. 0. 0. 0. 0.]\n",
            " [0. 0. 0. 0. 0. 0. 0. 1. 0. 0. 0. 0.]\n",
            " [0. 0. 0. 0. 0. 0. 0. 0. 1. 0. 0. 0.]\n",
            " [0. 0. 0. 0. 0. 0. 0. 0. 0. 1. 0. 0.]\n",
            " [0. 0. 0. 0. 0. 0. 0. 0. 0. 0. 0. 0.]\n",
            " [0. 0. 0. 0. 0. 0. 0. 0. 0. 0. 0. 0.]]\n",
            "[[1. 0. 0. 0. 0. 0. 0. 0. 0. 0. 0. 0.]\n",
            " [0. 1. 0. 0. 0. 0. 0. 0. 0. 0. 0. 0.]\n",
            " [0. 0. 1. 0. 0. 0. 0. 0. 0. 0. 0. 0.]\n",
            " [0. 0. 0. 1. 0. 0. 0. 0. 0. 0. 0. 0.]\n",
            " [0. 0. 0. 0. 1. 0. 0. 0. 0. 0. 0. 0.]\n",
            " [0. 0. 0. 0. 0. 1. 0. 0. 0. 0. 0. 0.]\n",
            " [0. 0. 0. 0. 0. 0. 1. 0. 0. 0. 0. 0.]\n",
            " [0. 0. 0. 0. 0. 0. 0. 1. 0. 0. 0. 0.]\n",
            " [0. 0. 0. 0. 0. 0. 0. 0. 1. 0. 0. 0.]\n",
            " [0. 0. 0. 0. 0. 0. 0. 0. 0. 1. 0. 0.]\n",
            " [0. 0. 0. 0. 0. 0. 0. 0. 0. 0. 1. 0.]\n",
            " [0. 0. 0. 0. 0. 0. 0. 0. 0. 0. 0. 0.]]\n",
            "[[1. 0. 0. 0. 0. 0. 0. 0. 0. 0. 0. 0.]\n",
            " [0. 1. 0. 0. 0. 0. 0. 0. 0. 0. 0. 0.]\n",
            " [0. 0. 1. 0. 0. 0. 0. 0. 0. 0. 0. 0.]\n",
            " [0. 0. 0. 1. 0. 0. 0. 0. 0. 0. 0. 0.]\n",
            " [0. 0. 0. 0. 1. 0. 0. 0. 0. 0. 0. 0.]\n",
            " [0. 0. 0. 0. 0. 1. 0. 0. 0. 0. 0. 0.]\n",
            " [0. 0. 0. 0. 0. 0. 1. 0. 0. 0. 0. 0.]\n",
            " [0. 0. 0. 0. 0. 0. 0. 1. 0. 0. 0. 0.]\n",
            " [0. 0. 0. 0. 0. 0. 0. 0. 1. 0. 0. 0.]\n",
            " [0. 0. 0. 0. 0. 0. 0. 0. 0. 1. 0. 0.]\n",
            " [0. 0. 0. 0. 0. 0. 0. 0. 0. 0. 1. 0.]\n",
            " [0. 0. 0. 0. 0. 0. 0. 0. 0. 0. 0. 1.]]\n"
          ]
        }
      ]
    },
    {
      "cell_type": "code",
      "source": [
        "onehot_dict = {}\n",
        "counter = 0\n",
        "for word in all_words:\n",
        "    onehot_dict[word] = onehot_data[counter]\n",
        "    counter += 1\n",
        "    print(onehot_dict)\n"
      ],
      "metadata": {
        "colab": {
          "base_uri": "https://localhost:8080/"
        },
        "id": "PsBxNj3UJuYl",
        "outputId": "2d39a017-7472-4bb3-af51-7b62c4cc5e81"
      },
      "execution_count": null,
      "outputs": [
        {
          "output_type": "stream",
          "name": "stdout",
          "text": [
            "{'beautiful': array([1., 0., 0., 0., 0., 0., 0., 0., 0., 0., 0., 0.])}\n",
            "{'beautiful': array([1., 0., 0., 0., 0., 0., 0., 0., 0., 0., 0., 0.]), 'boy': array([0., 1., 0., 0., 0., 0., 0., 0., 0., 0., 0., 0.])}\n",
            "{'beautiful': array([1., 0., 0., 0., 0., 0., 0., 0., 0., 0., 0., 0.]), 'boy': array([0., 1., 0., 0., 0., 0., 0., 0., 0., 0., 0., 0.]), 'daughter': array([0., 0., 1., 0., 0., 0., 0., 0., 0., 0., 0., 0.])}\n",
            "{'beautiful': array([1., 0., 0., 0., 0., 0., 0., 0., 0., 0., 0., 0.]), 'boy': array([0., 1., 0., 0., 0., 0., 0., 0., 0., 0., 0., 0.]), 'daughter': array([0., 0., 1., 0., 0., 0., 0., 0., 0., 0., 0., 0.]), 'future': array([0., 0., 0., 1., 0., 0., 0., 0., 0., 0., 0., 0.])}\n",
            "{'beautiful': array([1., 0., 0., 0., 0., 0., 0., 0., 0., 0., 0., 0.]), 'boy': array([0., 1., 0., 0., 0., 0., 0., 0., 0., 0., 0., 0.]), 'daughter': array([0., 0., 1., 0., 0., 0., 0., 0., 0., 0., 0., 0.]), 'future': array([0., 0., 0., 1., 0., 0., 0., 0., 0., 0., 0., 0.]), 'king': array([0., 0., 0., 0., 1., 0., 0., 0., 0., 0., 0., 0.])}\n",
            "{'beautiful': array([1., 0., 0., 0., 0., 0., 0., 0., 0., 0., 0., 0.]), 'boy': array([0., 1., 0., 0., 0., 0., 0., 0., 0., 0., 0., 0.]), 'daughter': array([0., 0., 1., 0., 0., 0., 0., 0., 0., 0., 0., 0.]), 'future': array([0., 0., 0., 1., 0., 0., 0., 0., 0., 0., 0., 0.]), 'king': array([0., 0., 0., 0., 1., 0., 0., 0., 0., 0., 0., 0.]), 'man': array([0., 0., 0., 0., 0., 1., 0., 0., 0., 0., 0., 0.])}\n",
            "{'beautiful': array([1., 0., 0., 0., 0., 0., 0., 0., 0., 0., 0., 0.]), 'boy': array([0., 1., 0., 0., 0., 0., 0., 0., 0., 0., 0., 0.]), 'daughter': array([0., 0., 1., 0., 0., 0., 0., 0., 0., 0., 0., 0.]), 'future': array([0., 0., 0., 1., 0., 0., 0., 0., 0., 0., 0., 0.]), 'king': array([0., 0., 0., 0., 1., 0., 0., 0., 0., 0., 0., 0.]), 'man': array([0., 0., 0., 0., 0., 1., 0., 0., 0., 0., 0., 0.]), 'prince': array([0., 0., 0., 0., 0., 0., 1., 0., 0., 0., 0., 0.])}\n",
            "{'beautiful': array([1., 0., 0., 0., 0., 0., 0., 0., 0., 0., 0., 0.]), 'boy': array([0., 1., 0., 0., 0., 0., 0., 0., 0., 0., 0., 0.]), 'daughter': array([0., 0., 1., 0., 0., 0., 0., 0., 0., 0., 0., 0.]), 'future': array([0., 0., 0., 1., 0., 0., 0., 0., 0., 0., 0., 0.]), 'king': array([0., 0., 0., 0., 1., 0., 0., 0., 0., 0., 0., 0.]), 'man': array([0., 0., 0., 0., 0., 1., 0., 0., 0., 0., 0., 0.]), 'prince': array([0., 0., 0., 0., 0., 0., 1., 0., 0., 0., 0., 0.]), 'princess': array([0., 0., 0., 0., 0., 0., 0., 1., 0., 0., 0., 0.])}\n",
            "{'beautiful': array([1., 0., 0., 0., 0., 0., 0., 0., 0., 0., 0., 0.]), 'boy': array([0., 1., 0., 0., 0., 0., 0., 0., 0., 0., 0., 0.]), 'daughter': array([0., 0., 1., 0., 0., 0., 0., 0., 0., 0., 0., 0.]), 'future': array([0., 0., 0., 1., 0., 0., 0., 0., 0., 0., 0., 0.]), 'king': array([0., 0., 0., 0., 1., 0., 0., 0., 0., 0., 0., 0.]), 'man': array([0., 0., 0., 0., 0., 1., 0., 0., 0., 0., 0., 0.]), 'prince': array([0., 0., 0., 0., 0., 0., 1., 0., 0., 0., 0., 0.]), 'princess': array([0., 0., 0., 0., 0., 0., 0., 1., 0., 0., 0., 0.]), 'queen': array([0., 0., 0., 0., 0., 0., 0., 0., 1., 0., 0., 0.])}\n",
            "{'beautiful': array([1., 0., 0., 0., 0., 0., 0., 0., 0., 0., 0., 0.]), 'boy': array([0., 1., 0., 0., 0., 0., 0., 0., 0., 0., 0., 0.]), 'daughter': array([0., 0., 1., 0., 0., 0., 0., 0., 0., 0., 0., 0.]), 'future': array([0., 0., 0., 1., 0., 0., 0., 0., 0., 0., 0., 0.]), 'king': array([0., 0., 0., 0., 1., 0., 0., 0., 0., 0., 0., 0.]), 'man': array([0., 0., 0., 0., 0., 1., 0., 0., 0., 0., 0., 0.]), 'prince': array([0., 0., 0., 0., 0., 0., 1., 0., 0., 0., 0., 0.]), 'princess': array([0., 0., 0., 0., 0., 0., 0., 1., 0., 0., 0., 0.]), 'queen': array([0., 0., 0., 0., 0., 0., 0., 0., 1., 0., 0., 0.]), 'son': array([0., 0., 0., 0., 0., 0., 0., 0., 0., 1., 0., 0.])}\n",
            "{'beautiful': array([1., 0., 0., 0., 0., 0., 0., 0., 0., 0., 0., 0.]), 'boy': array([0., 1., 0., 0., 0., 0., 0., 0., 0., 0., 0., 0.]), 'daughter': array([0., 0., 1., 0., 0., 0., 0., 0., 0., 0., 0., 0.]), 'future': array([0., 0., 0., 1., 0., 0., 0., 0., 0., 0., 0., 0.]), 'king': array([0., 0., 0., 0., 1., 0., 0., 0., 0., 0., 0., 0.]), 'man': array([0., 0., 0., 0., 0., 1., 0., 0., 0., 0., 0., 0.]), 'prince': array([0., 0., 0., 0., 0., 0., 1., 0., 0., 0., 0., 0.]), 'princess': array([0., 0., 0., 0., 0., 0., 0., 1., 0., 0., 0., 0.]), 'queen': array([0., 0., 0., 0., 0., 0., 0., 0., 1., 0., 0., 0.]), 'son': array([0., 0., 0., 0., 0., 0., 0., 0., 0., 1., 0., 0.]), 'strong': array([0., 0., 0., 0., 0., 0., 0., 0., 0., 0., 1., 0.])}\n",
            "{'beautiful': array([1., 0., 0., 0., 0., 0., 0., 0., 0., 0., 0., 0.]), 'boy': array([0., 1., 0., 0., 0., 0., 0., 0., 0., 0., 0., 0.]), 'daughter': array([0., 0., 1., 0., 0., 0., 0., 0., 0., 0., 0., 0.]), 'future': array([0., 0., 0., 1., 0., 0., 0., 0., 0., 0., 0., 0.]), 'king': array([0., 0., 0., 0., 1., 0., 0., 0., 0., 0., 0., 0.]), 'man': array([0., 0., 0., 0., 0., 1., 0., 0., 0., 0., 0., 0.]), 'prince': array([0., 0., 0., 0., 0., 0., 1., 0., 0., 0., 0., 0.]), 'princess': array([0., 0., 0., 0., 0., 0., 0., 1., 0., 0., 0., 0.]), 'queen': array([0., 0., 0., 0., 0., 0., 0., 0., 1., 0., 0., 0.]), 'son': array([0., 0., 0., 0., 0., 0., 0., 0., 0., 1., 0., 0.]), 'strong': array([0., 0., 0., 0., 0., 0., 0., 0., 0., 0., 1., 0.]), 'woman': array([0., 0., 0., 0., 0., 0., 0., 0., 0., 0., 0., 1.])}\n"
          ]
        }
      ]
    },
    {
      "cell_type": "code",
      "source": [
        "for word in onehot_dict:\n",
        "    print(word, \":\", onehot_dict[word])"
      ],
      "metadata": {
        "colab": {
          "base_uri": "https://localhost:8080/"
        },
        "id": "__zwK680KXu-",
        "outputId": "c051a310-cb50-4be0-e831-28270276f4eb"
      },
      "execution_count": null,
      "outputs": [
        {
          "output_type": "stream",
          "name": "stdout",
          "text": [
            "beautiful : [1. 0. 0. 0. 0. 0. 0. 0. 0. 0. 0. 0.]\n",
            "boy : [0. 1. 0. 0. 0. 0. 0. 0. 0. 0. 0. 0.]\n",
            "daughter : [0. 0. 1. 0. 0. 0. 0. 0. 0. 0. 0. 0.]\n",
            "future : [0. 0. 0. 1. 0. 0. 0. 0. 0. 0. 0. 0.]\n",
            "king : [0. 0. 0. 0. 1. 0. 0. 0. 0. 0. 0. 0.]\n",
            "man : [0. 0. 0. 0. 0. 1. 0. 0. 0. 0. 0. 0.]\n",
            "prince : [0. 0. 0. 0. 0. 0. 1. 0. 0. 0. 0. 0.]\n",
            "princess : [0. 0. 0. 0. 0. 0. 0. 1. 0. 0. 0. 0.]\n",
            "queen : [0. 0. 0. 0. 0. 0. 0. 0. 1. 0. 0. 0.]\n",
            "son : [0. 0. 0. 0. 0. 0. 0. 0. 0. 1. 0. 0.]\n",
            "strong : [0. 0. 0. 0. 0. 0. 0. 0. 0. 0. 1. 0.]\n",
            "woman : [0. 0. 0. 0. 0. 0. 0. 0. 0. 0. 0. 1.]\n"
          ]
        }
      ]
    },
    {
      "cell_type": "code",
      "source": [
        "X = []\n",
        "Y = []\n",
        "\n",
        "for bi in bigrams:\n",
        "    X.append(onehot_dict[bi[0]])\n",
        "    Y.append(onehot_dict[bi[1]])\n",
        "\n",
        "X = np.array(X)\n",
        "Y = np.array(Y)\n",
        "\n"
      ],
      "metadata": {
        "id": "8GBZydh2KpFP"
      },
      "execution_count": null,
      "outputs": []
    },
    {
      "cell_type": "code",
      "source": [
        "print(bigrams)\n",
        "print(len(bigrams))\n",
        "print(X.shape , Y.shape)"
      ],
      "metadata": {
        "colab": {
          "base_uri": "https://localhost:8080/"
        },
        "id": "QNly87F-KpI6",
        "outputId": "d60ea1ac-4900-4225-863e-126156c38afe"
      },
      "execution_count": null,
      "outputs": [
        {
          "output_type": "stream",
          "name": "stdout",
          "text": [
            "[['future', 'king'], ['king', 'future'], ['future', 'prince'], ['prince', 'future'], ['king', 'prince'], ['prince', 'king'], ['daughter', 'princess'], ['princess', 'daughter'], ['son', 'prince'], ['prince', 'son'], ['man', 'king'], ['king', 'man'], ['woman', 'queen'], ['queen', 'woman'], ['princess', 'queen'], ['queen', 'princess'], ['prince', 'strong'], ['strong', 'prince'], ['prince', 'man'], ['man', 'prince'], ['strong', 'man'], ['man', 'strong'], ['princess', 'beautiful'], ['beautiful', 'princess'], ['princess', 'woman'], ['woman', 'princess'], ['beautiful', 'woman'], ['woman', 'beautiful'], ['prince', 'boy'], ['boy', 'prince'], ['prince', 'king'], ['king', 'prince'], ['boy', 'man'], ['man', 'boy']]\n",
            "34\n",
            "(34, 12) (34, 12)\n"
          ]
        }
      ]
    },
    {
      "cell_type": "markdown",
      "source": [
        "**Model**"
      ],
      "metadata": {
        "id": "_L5Ssn75KI1w"
      }
    },
    {
      "cell_type": "code",
      "source": [
        "from keras.models import Sequential\n",
        "from keras.layers import Dense\n",
        "\n",
        "embed_size = 2\n",
        "\n",
        "model = Sequential([\n",
        "    Dense(embed_size, activation='sigmoid'),\n",
        "    Dense(Y.shape[1], activation = 'softmax')\n",
        "])\n",
        "\n",
        "model.compile(loss = 'categorical_crossentropy', optimizer = 'adam')"
      ],
      "metadata": {
        "id": "yPInu3gvJukT"
      },
      "execution_count": null,
      "outputs": []
    },
    {
      "cell_type": "code",
      "source": [
        "model.fit(X, Y, epochs = 1000, verbose = False)\n"
      ],
      "metadata": {
        "colab": {
          "base_uri": "https://localhost:8080/"
        },
        "id": "niYBE2cTLiSU",
        "outputId": "83ec8470-08e1-4596-f898-6dc96b040252"
      },
      "execution_count": null,
      "outputs": [
        {
          "output_type": "execute_result",
          "data": {
            "text/plain": [
              "<keras.src.callbacks.History at 0x78b80a6459f0>"
            ]
          },
          "metadata": {},
          "execution_count": 79
        }
      ]
    },
    {
      "cell_type": "code",
      "source": [
        "weights = model.get_weights()[0]  #weights[0] get weight between hideen layer and output layer\n",
        "\n",
        "word_embeddings = {}\n",
        "for word in all_words:\n",
        "    word_embeddings[word] = weights[words_dict[word]]\n",
        "    print(word_embeddings)\n",
        "\n",
        "print(word_embeddings)"
      ],
      "metadata": {
        "colab": {
          "base_uri": "https://localhost:8080/"
        },
        "id": "3iI3oPw8L34u",
        "outputId": "3dcfcf87-96ce-4ee2-ee30-1fc7a993ba9b"
      },
      "execution_count": null,
      "outputs": [
        {
          "output_type": "stream",
          "name": "stdout",
          "text": [
            "{'beautiful': array([-1.1487963 , -0.10573176, -0.52509326,  0.37260234,  0.5203657 ,\n",
            "       -0.44500124,  0.17818356,  0.16218615,  0.28955048, -0.8727361 ,\n",
            "        1.0656337 ,  1.1990259 ,  1.0571758 , -0.24056365, -0.5372693 ,\n",
            "        0.45665812,  0.57167625, -0.90684557, -0.6978035 , -1.3489202 ],\n",
            "      dtype=float32)}\n",
            "{'beautiful': array([-1.1487963 , -0.10573176, -0.52509326,  0.37260234,  0.5203657 ,\n",
            "       -0.44500124,  0.17818356,  0.16218615,  0.28955048, -0.8727361 ,\n",
            "        1.0656337 ,  1.1990259 ,  1.0571758 , -0.24056365, -0.5372693 ,\n",
            "        0.45665812,  0.57167625, -0.90684557, -0.6978035 , -1.3489202 ],\n",
            "      dtype=float32), 'boy': array([-0.59885347,  0.02767531,  0.6490524 ,  0.37649786, -0.49374413,\n",
            "        0.5815432 , -1.0486206 , -0.00327868, -1.0466033 , -0.17672138,\n",
            "        0.6288623 , -0.49498945,  0.5086876 , -0.04644291, -0.7063386 ,\n",
            "       -0.6686005 , -0.02378834, -0.31872758,  0.6396901 ,  0.8592337 ],\n",
            "      dtype=float32)}\n",
            "{'beautiful': array([-1.1487963 , -0.10573176, -0.52509326,  0.37260234,  0.5203657 ,\n",
            "       -0.44500124,  0.17818356,  0.16218615,  0.28955048, -0.8727361 ,\n",
            "        1.0656337 ,  1.1990259 ,  1.0571758 , -0.24056365, -0.5372693 ,\n",
            "        0.45665812,  0.57167625, -0.90684557, -0.6978035 , -1.3489202 ],\n",
            "      dtype=float32), 'boy': array([-0.59885347,  0.02767531,  0.6490524 ,  0.37649786, -0.49374413,\n",
            "        0.5815432 , -1.0486206 , -0.00327868, -1.0466033 , -0.17672138,\n",
            "        0.6288623 , -0.49498945,  0.5086876 , -0.04644291, -0.7063386 ,\n",
            "       -0.6686005 , -0.02378834, -0.31872758,  0.6396901 ,  0.8592337 ],\n",
            "      dtype=float32), 'daughter': array([-0.771684  , -0.04856131, -0.6053528 ,  0.27900925, -0.7423682 ,\n",
            "        0.8874015 , -0.01429309, -0.7928145 , -0.8073028 , -0.69835913,\n",
            "        0.7235618 ,  0.53893167,  0.88882375,  0.9768295 , -0.16603641,\n",
            "        0.362894  ,  0.52743894,  0.28649408, -0.3852966 , -0.29485658],\n",
            "      dtype=float32)}\n",
            "{'beautiful': array([-1.1487963 , -0.10573176, -0.52509326,  0.37260234,  0.5203657 ,\n",
            "       -0.44500124,  0.17818356,  0.16218615,  0.28955048, -0.8727361 ,\n",
            "        1.0656337 ,  1.1990259 ,  1.0571758 , -0.24056365, -0.5372693 ,\n",
            "        0.45665812,  0.57167625, -0.90684557, -0.6978035 , -1.3489202 ],\n",
            "      dtype=float32), 'boy': array([-0.59885347,  0.02767531,  0.6490524 ,  0.37649786, -0.49374413,\n",
            "        0.5815432 , -1.0486206 , -0.00327868, -1.0466033 , -0.17672138,\n",
            "        0.6288623 , -0.49498945,  0.5086876 , -0.04644291, -0.7063386 ,\n",
            "       -0.6686005 , -0.02378834, -0.31872758,  0.6396901 ,  0.8592337 ],\n",
            "      dtype=float32), 'daughter': array([-0.771684  , -0.04856131, -0.6053528 ,  0.27900925, -0.7423682 ,\n",
            "        0.8874015 , -0.01429309, -0.7928145 , -0.8073028 , -0.69835913,\n",
            "        0.7235618 ,  0.53893167,  0.88882375,  0.9768295 , -0.16603641,\n",
            "        0.362894  ,  0.52743894,  0.28649408, -0.3852966 , -0.29485658],\n",
            "      dtype=float32), 'future': array([ 0.2259985 , -0.03862878, -0.03572724,  0.04142957,  0.41423625,\n",
            "        0.53294814, -0.9199925 ,  0.79638964, -0.6979564 ,  1.1812992 ,\n",
            "       -1.0730063 , -0.25166586, -0.41487727, -0.34264272,  0.7576317 ,\n",
            "       -0.5103774 , -0.6640754 ,  0.51877683, -0.313495  ,  0.3492615 ],\n",
            "      dtype=float32)}\n",
            "{'beautiful': array([-1.1487963 , -0.10573176, -0.52509326,  0.37260234,  0.5203657 ,\n",
            "       -0.44500124,  0.17818356,  0.16218615,  0.28955048, -0.8727361 ,\n",
            "        1.0656337 ,  1.1990259 ,  1.0571758 , -0.24056365, -0.5372693 ,\n",
            "        0.45665812,  0.57167625, -0.90684557, -0.6978035 , -1.3489202 ],\n",
            "      dtype=float32), 'boy': array([-0.59885347,  0.02767531,  0.6490524 ,  0.37649786, -0.49374413,\n",
            "        0.5815432 , -1.0486206 , -0.00327868, -1.0466033 , -0.17672138,\n",
            "        0.6288623 , -0.49498945,  0.5086876 , -0.04644291, -0.7063386 ,\n",
            "       -0.6686005 , -0.02378834, -0.31872758,  0.6396901 ,  0.8592337 ],\n",
            "      dtype=float32), 'daughter': array([-0.771684  , -0.04856131, -0.6053528 ,  0.27900925, -0.7423682 ,\n",
            "        0.8874015 , -0.01429309, -0.7928145 , -0.8073028 , -0.69835913,\n",
            "        0.7235618 ,  0.53893167,  0.88882375,  0.9768295 , -0.16603641,\n",
            "        0.362894  ,  0.52743894,  0.28649408, -0.3852966 , -0.29485658],\n",
            "      dtype=float32), 'future': array([ 0.2259985 , -0.03862878, -0.03572724,  0.04142957,  0.41423625,\n",
            "        0.53294814, -0.9199925 ,  0.79638964, -0.6979564 ,  1.1812992 ,\n",
            "       -1.0730063 , -0.25166586, -0.41487727, -0.34264272,  0.7576317 ,\n",
            "       -0.5103774 , -0.6640754 ,  0.51877683, -0.313495  ,  0.3492615 ],\n",
            "      dtype=float32), 'king': array([-0.84960264, -0.21025224,  1.2811216 ,  1.0160817 , -0.26614273,\n",
            "        0.91312677, -1.091937  ,  0.748572  , -0.30709866, -0.08498497,\n",
            "        0.41648027, -1.0523841 ,  0.26163307, -0.20900579,  0.03786428,\n",
            "        0.4575155 , -0.88480896, -1.064354  ,  0.15594341,  0.8542616 ],\n",
            "      dtype=float32)}\n",
            "{'beautiful': array([-1.1487963 , -0.10573176, -0.52509326,  0.37260234,  0.5203657 ,\n",
            "       -0.44500124,  0.17818356,  0.16218615,  0.28955048, -0.8727361 ,\n",
            "        1.0656337 ,  1.1990259 ,  1.0571758 , -0.24056365, -0.5372693 ,\n",
            "        0.45665812,  0.57167625, -0.90684557, -0.6978035 , -1.3489202 ],\n",
            "      dtype=float32), 'boy': array([-0.59885347,  0.02767531,  0.6490524 ,  0.37649786, -0.49374413,\n",
            "        0.5815432 , -1.0486206 , -0.00327868, -1.0466033 , -0.17672138,\n",
            "        0.6288623 , -0.49498945,  0.5086876 , -0.04644291, -0.7063386 ,\n",
            "       -0.6686005 , -0.02378834, -0.31872758,  0.6396901 ,  0.8592337 ],\n",
            "      dtype=float32), 'daughter': array([-0.771684  , -0.04856131, -0.6053528 ,  0.27900925, -0.7423682 ,\n",
            "        0.8874015 , -0.01429309, -0.7928145 , -0.8073028 , -0.69835913,\n",
            "        0.7235618 ,  0.53893167,  0.88882375,  0.9768295 , -0.16603641,\n",
            "        0.362894  ,  0.52743894,  0.28649408, -0.3852966 , -0.29485658],\n",
            "      dtype=float32), 'future': array([ 0.2259985 , -0.03862878, -0.03572724,  0.04142957,  0.41423625,\n",
            "        0.53294814, -0.9199925 ,  0.79638964, -0.6979564 ,  1.1812992 ,\n",
            "       -1.0730063 , -0.25166586, -0.41487727, -0.34264272,  0.7576317 ,\n",
            "       -0.5103774 , -0.6640754 ,  0.51877683, -0.313495  ,  0.3492615 ],\n",
            "      dtype=float32), 'king': array([-0.84960264, -0.21025224,  1.2811216 ,  1.0160817 , -0.26614273,\n",
            "        0.91312677, -1.091937  ,  0.748572  , -0.30709866, -0.08498497,\n",
            "        0.41648027, -1.0523841 ,  0.26163307, -0.20900579,  0.03786428,\n",
            "        0.4575155 , -0.88480896, -1.064354  ,  0.15594341,  0.8542616 ],\n",
            "      dtype=float32), 'man': array([ 0.687567  , -0.5205188 ,  0.71140856, -0.6233152 ,  0.30683205,\n",
            "        0.3165033 , -0.11104523,  0.27291986,  0.52407503,  0.8663698 ,\n",
            "       -1.2573698 , -0.2797404 , -0.06986589, -0.5785409 ,  1.1416852 ,\n",
            "       -0.11637917, -0.98539424,  0.74783415, -0.7277933 ,  0.27958578],\n",
            "      dtype=float32)}\n",
            "{'beautiful': array([-1.1487963 , -0.10573176, -0.52509326,  0.37260234,  0.5203657 ,\n",
            "       -0.44500124,  0.17818356,  0.16218615,  0.28955048, -0.8727361 ,\n",
            "        1.0656337 ,  1.1990259 ,  1.0571758 , -0.24056365, -0.5372693 ,\n",
            "        0.45665812,  0.57167625, -0.90684557, -0.6978035 , -1.3489202 ],\n",
            "      dtype=float32), 'boy': array([-0.59885347,  0.02767531,  0.6490524 ,  0.37649786, -0.49374413,\n",
            "        0.5815432 , -1.0486206 , -0.00327868, -1.0466033 , -0.17672138,\n",
            "        0.6288623 , -0.49498945,  0.5086876 , -0.04644291, -0.7063386 ,\n",
            "       -0.6686005 , -0.02378834, -0.31872758,  0.6396901 ,  0.8592337 ],\n",
            "      dtype=float32), 'daughter': array([-0.771684  , -0.04856131, -0.6053528 ,  0.27900925, -0.7423682 ,\n",
            "        0.8874015 , -0.01429309, -0.7928145 , -0.8073028 , -0.69835913,\n",
            "        0.7235618 ,  0.53893167,  0.88882375,  0.9768295 , -0.16603641,\n",
            "        0.362894  ,  0.52743894,  0.28649408, -0.3852966 , -0.29485658],\n",
            "      dtype=float32), 'future': array([ 0.2259985 , -0.03862878, -0.03572724,  0.04142957,  0.41423625,\n",
            "        0.53294814, -0.9199925 ,  0.79638964, -0.6979564 ,  1.1812992 ,\n",
            "       -1.0730063 , -0.25166586, -0.41487727, -0.34264272,  0.7576317 ,\n",
            "       -0.5103774 , -0.6640754 ,  0.51877683, -0.313495  ,  0.3492615 ],\n",
            "      dtype=float32), 'king': array([-0.84960264, -0.21025224,  1.2811216 ,  1.0160817 , -0.26614273,\n",
            "        0.91312677, -1.091937  ,  0.748572  , -0.30709866, -0.08498497,\n",
            "        0.41648027, -1.0523841 ,  0.26163307, -0.20900579,  0.03786428,\n",
            "        0.4575155 , -0.88480896, -1.064354  ,  0.15594341,  0.8542616 ],\n",
            "      dtype=float32), 'man': array([ 0.687567  , -0.5205188 ,  0.71140856, -0.6233152 ,  0.30683205,\n",
            "        0.3165033 , -0.11104523,  0.27291986,  0.52407503,  0.8663698 ,\n",
            "       -1.2573698 , -0.2797404 , -0.06986589, -0.5785409 ,  1.1416852 ,\n",
            "       -0.11637917, -0.98539424,  0.74783415, -0.7277933 ,  0.27958578],\n",
            "      dtype=float32), 'prince': array([ 0.20632055, -0.7208446 ,  0.370875  , -0.89781284,  0.04108475,\n",
            "       -0.19124083, -0.7070067 ,  0.21758987, -0.07385264, -0.2666343 ,\n",
            "       -0.7389056 , -0.14499827, -0.20231907,  0.0036447 ,  0.5349012 ,\n",
            "        0.10530534, -1.0720279 ,  0.5642379 ,  0.11117207, -0.9465841 ],\n",
            "      dtype=float32)}\n",
            "{'beautiful': array([-1.1487963 , -0.10573176, -0.52509326,  0.37260234,  0.5203657 ,\n",
            "       -0.44500124,  0.17818356,  0.16218615,  0.28955048, -0.8727361 ,\n",
            "        1.0656337 ,  1.1990259 ,  1.0571758 , -0.24056365, -0.5372693 ,\n",
            "        0.45665812,  0.57167625, -0.90684557, -0.6978035 , -1.3489202 ],\n",
            "      dtype=float32), 'boy': array([-0.59885347,  0.02767531,  0.6490524 ,  0.37649786, -0.49374413,\n",
            "        0.5815432 , -1.0486206 , -0.00327868, -1.0466033 , -0.17672138,\n",
            "        0.6288623 , -0.49498945,  0.5086876 , -0.04644291, -0.7063386 ,\n",
            "       -0.6686005 , -0.02378834, -0.31872758,  0.6396901 ,  0.8592337 ],\n",
            "      dtype=float32), 'daughter': array([-0.771684  , -0.04856131, -0.6053528 ,  0.27900925, -0.7423682 ,\n",
            "        0.8874015 , -0.01429309, -0.7928145 , -0.8073028 , -0.69835913,\n",
            "        0.7235618 ,  0.53893167,  0.88882375,  0.9768295 , -0.16603641,\n",
            "        0.362894  ,  0.52743894,  0.28649408, -0.3852966 , -0.29485658],\n",
            "      dtype=float32), 'future': array([ 0.2259985 , -0.03862878, -0.03572724,  0.04142957,  0.41423625,\n",
            "        0.53294814, -0.9199925 ,  0.79638964, -0.6979564 ,  1.1812992 ,\n",
            "       -1.0730063 , -0.25166586, -0.41487727, -0.34264272,  0.7576317 ,\n",
            "       -0.5103774 , -0.6640754 ,  0.51877683, -0.313495  ,  0.3492615 ],\n",
            "      dtype=float32), 'king': array([-0.84960264, -0.21025224,  1.2811216 ,  1.0160817 , -0.26614273,\n",
            "        0.91312677, -1.091937  ,  0.748572  , -0.30709866, -0.08498497,\n",
            "        0.41648027, -1.0523841 ,  0.26163307, -0.20900579,  0.03786428,\n",
            "        0.4575155 , -0.88480896, -1.064354  ,  0.15594341,  0.8542616 ],\n",
            "      dtype=float32), 'man': array([ 0.687567  , -0.5205188 ,  0.71140856, -0.6233152 ,  0.30683205,\n",
            "        0.3165033 , -0.11104523,  0.27291986,  0.52407503,  0.8663698 ,\n",
            "       -1.2573698 , -0.2797404 , -0.06986589, -0.5785409 ,  1.1416852 ,\n",
            "       -0.11637917, -0.98539424,  0.74783415, -0.7277933 ,  0.27958578],\n",
            "      dtype=float32), 'prince': array([ 0.20632055, -0.7208446 ,  0.370875  , -0.89781284,  0.04108475,\n",
            "       -0.19124083, -0.7070067 ,  0.21758987, -0.07385264, -0.2666343 ,\n",
            "       -0.7389056 , -0.14499827, -0.20231907,  0.0036447 ,  0.5349012 ,\n",
            "        0.10530534, -1.0720279 ,  0.5642379 ,  0.11117207, -0.9465841 ],\n",
            "      dtype=float32), 'princess': array([-0.1581293 ,  0.45012787, -1.1116602 , -0.10398273,  0.48064423,\n",
            "       -1.1635598 ,  0.8134543 , -0.9759209 ,  0.3039377 ,  0.06515885,\n",
            "        0.24257424,  0.30005643, -0.5592973 , -0.23865712, -0.6894824 ,\n",
            "       -0.67487895,  1.4148722 , -0.12843291, -0.7169557 , -0.27841288],\n",
            "      dtype=float32)}\n",
            "{'beautiful': array([-1.1487963 , -0.10573176, -0.52509326,  0.37260234,  0.5203657 ,\n",
            "       -0.44500124,  0.17818356,  0.16218615,  0.28955048, -0.8727361 ,\n",
            "        1.0656337 ,  1.1990259 ,  1.0571758 , -0.24056365, -0.5372693 ,\n",
            "        0.45665812,  0.57167625, -0.90684557, -0.6978035 , -1.3489202 ],\n",
            "      dtype=float32), 'boy': array([-0.59885347,  0.02767531,  0.6490524 ,  0.37649786, -0.49374413,\n",
            "        0.5815432 , -1.0486206 , -0.00327868, -1.0466033 , -0.17672138,\n",
            "        0.6288623 , -0.49498945,  0.5086876 , -0.04644291, -0.7063386 ,\n",
            "       -0.6686005 , -0.02378834, -0.31872758,  0.6396901 ,  0.8592337 ],\n",
            "      dtype=float32), 'daughter': array([-0.771684  , -0.04856131, -0.6053528 ,  0.27900925, -0.7423682 ,\n",
            "        0.8874015 , -0.01429309, -0.7928145 , -0.8073028 , -0.69835913,\n",
            "        0.7235618 ,  0.53893167,  0.88882375,  0.9768295 , -0.16603641,\n",
            "        0.362894  ,  0.52743894,  0.28649408, -0.3852966 , -0.29485658],\n",
            "      dtype=float32), 'future': array([ 0.2259985 , -0.03862878, -0.03572724,  0.04142957,  0.41423625,\n",
            "        0.53294814, -0.9199925 ,  0.79638964, -0.6979564 ,  1.1812992 ,\n",
            "       -1.0730063 , -0.25166586, -0.41487727, -0.34264272,  0.7576317 ,\n",
            "       -0.5103774 , -0.6640754 ,  0.51877683, -0.313495  ,  0.3492615 ],\n",
            "      dtype=float32), 'king': array([-0.84960264, -0.21025224,  1.2811216 ,  1.0160817 , -0.26614273,\n",
            "        0.91312677, -1.091937  ,  0.748572  , -0.30709866, -0.08498497,\n",
            "        0.41648027, -1.0523841 ,  0.26163307, -0.20900579,  0.03786428,\n",
            "        0.4575155 , -0.88480896, -1.064354  ,  0.15594341,  0.8542616 ],\n",
            "      dtype=float32), 'man': array([ 0.687567  , -0.5205188 ,  0.71140856, -0.6233152 ,  0.30683205,\n",
            "        0.3165033 , -0.11104523,  0.27291986,  0.52407503,  0.8663698 ,\n",
            "       -1.2573698 , -0.2797404 , -0.06986589, -0.5785409 ,  1.1416852 ,\n",
            "       -0.11637917, -0.98539424,  0.74783415, -0.7277933 ,  0.27958578],\n",
            "      dtype=float32), 'prince': array([ 0.20632055, -0.7208446 ,  0.370875  , -0.89781284,  0.04108475,\n",
            "       -0.19124083, -0.7070067 ,  0.21758987, -0.07385264, -0.2666343 ,\n",
            "       -0.7389056 , -0.14499827, -0.20231907,  0.0036447 ,  0.5349012 ,\n",
            "        0.10530534, -1.0720279 ,  0.5642379 ,  0.11117207, -0.9465841 ],\n",
            "      dtype=float32), 'princess': array([-0.1581293 ,  0.45012787, -1.1116602 , -0.10398273,  0.48064423,\n",
            "       -1.1635598 ,  0.8134543 , -0.9759209 ,  0.3039377 ,  0.06515885,\n",
            "        0.24257424,  0.30005643, -0.5592973 , -0.23865712, -0.6894824 ,\n",
            "       -0.67487895,  1.4148722 , -0.12843291, -0.7169557 , -0.27841288],\n",
            "      dtype=float32), 'queen': array([-1.1771507 , -0.5638497 , -1.1857187 ,  0.30698982,  0.6131995 ,\n",
            "       -0.29657674,  0.29763415,  0.19699223,  0.10515296, -1.0406423 ,\n",
            "        0.7384927 ,  1.1545321 ,  0.9472891 , -0.29459786, -0.88224834,\n",
            "        0.69340295,  0.8633085 , -0.70775074, -1.2495883 , -1.2937489 ],\n",
            "      dtype=float32)}\n",
            "{'beautiful': array([-1.1487963 , -0.10573176, -0.52509326,  0.37260234,  0.5203657 ,\n",
            "       -0.44500124,  0.17818356,  0.16218615,  0.28955048, -0.8727361 ,\n",
            "        1.0656337 ,  1.1990259 ,  1.0571758 , -0.24056365, -0.5372693 ,\n",
            "        0.45665812,  0.57167625, -0.90684557, -0.6978035 , -1.3489202 ],\n",
            "      dtype=float32), 'boy': array([-0.59885347,  0.02767531,  0.6490524 ,  0.37649786, -0.49374413,\n",
            "        0.5815432 , -1.0486206 , -0.00327868, -1.0466033 , -0.17672138,\n",
            "        0.6288623 , -0.49498945,  0.5086876 , -0.04644291, -0.7063386 ,\n",
            "       -0.6686005 , -0.02378834, -0.31872758,  0.6396901 ,  0.8592337 ],\n",
            "      dtype=float32), 'daughter': array([-0.771684  , -0.04856131, -0.6053528 ,  0.27900925, -0.7423682 ,\n",
            "        0.8874015 , -0.01429309, -0.7928145 , -0.8073028 , -0.69835913,\n",
            "        0.7235618 ,  0.53893167,  0.88882375,  0.9768295 , -0.16603641,\n",
            "        0.362894  ,  0.52743894,  0.28649408, -0.3852966 , -0.29485658],\n",
            "      dtype=float32), 'future': array([ 0.2259985 , -0.03862878, -0.03572724,  0.04142957,  0.41423625,\n",
            "        0.53294814, -0.9199925 ,  0.79638964, -0.6979564 ,  1.1812992 ,\n",
            "       -1.0730063 , -0.25166586, -0.41487727, -0.34264272,  0.7576317 ,\n",
            "       -0.5103774 , -0.6640754 ,  0.51877683, -0.313495  ,  0.3492615 ],\n",
            "      dtype=float32), 'king': array([-0.84960264, -0.21025224,  1.2811216 ,  1.0160817 , -0.26614273,\n",
            "        0.91312677, -1.091937  ,  0.748572  , -0.30709866, -0.08498497,\n",
            "        0.41648027, -1.0523841 ,  0.26163307, -0.20900579,  0.03786428,\n",
            "        0.4575155 , -0.88480896, -1.064354  ,  0.15594341,  0.8542616 ],\n",
            "      dtype=float32), 'man': array([ 0.687567  , -0.5205188 ,  0.71140856, -0.6233152 ,  0.30683205,\n",
            "        0.3165033 , -0.11104523,  0.27291986,  0.52407503,  0.8663698 ,\n",
            "       -1.2573698 , -0.2797404 , -0.06986589, -0.5785409 ,  1.1416852 ,\n",
            "       -0.11637917, -0.98539424,  0.74783415, -0.7277933 ,  0.27958578],\n",
            "      dtype=float32), 'prince': array([ 0.20632055, -0.7208446 ,  0.370875  , -0.89781284,  0.04108475,\n",
            "       -0.19124083, -0.7070067 ,  0.21758987, -0.07385264, -0.2666343 ,\n",
            "       -0.7389056 , -0.14499827, -0.20231907,  0.0036447 ,  0.5349012 ,\n",
            "        0.10530534, -1.0720279 ,  0.5642379 ,  0.11117207, -0.9465841 ],\n",
            "      dtype=float32), 'princess': array([-0.1581293 ,  0.45012787, -1.1116602 , -0.10398273,  0.48064423,\n",
            "       -1.1635598 ,  0.8134543 , -0.9759209 ,  0.3039377 ,  0.06515885,\n",
            "        0.24257424,  0.30005643, -0.5592973 , -0.23865712, -0.6894824 ,\n",
            "       -0.67487895,  1.4148722 , -0.12843291, -0.7169557 , -0.27841288],\n",
            "      dtype=float32), 'queen': array([-1.1771507 , -0.5638497 , -1.1857187 ,  0.30698982,  0.6131995 ,\n",
            "       -0.29657674,  0.29763415,  0.19699223,  0.10515296, -1.0406423 ,\n",
            "        0.7384927 ,  1.1545321 ,  0.9472891 , -0.29459786, -0.88224834,\n",
            "        0.69340295,  0.8633085 , -0.70775074, -1.2495883 , -1.2937489 ],\n",
            "      dtype=float32), 'son': array([-0.2633388 , -0.07522991,  0.4906259 ,  0.800511  ,  0.82584393,\n",
            "        0.36596152, -0.74825776,  0.90987   , -0.955742  ,  1.1606834 ,\n",
            "       -0.106336  , -0.511512  , -0.3573078 , -0.60212034,  0.3889675 ,\n",
            "       -0.40182889, -0.811802  , -0.60144395, -0.9466211 ,  1.0729873 ],\n",
            "      dtype=float32)}\n",
            "{'beautiful': array([-1.1487963 , -0.10573176, -0.52509326,  0.37260234,  0.5203657 ,\n",
            "       -0.44500124,  0.17818356,  0.16218615,  0.28955048, -0.8727361 ,\n",
            "        1.0656337 ,  1.1990259 ,  1.0571758 , -0.24056365, -0.5372693 ,\n",
            "        0.45665812,  0.57167625, -0.90684557, -0.6978035 , -1.3489202 ],\n",
            "      dtype=float32), 'boy': array([-0.59885347,  0.02767531,  0.6490524 ,  0.37649786, -0.49374413,\n",
            "        0.5815432 , -1.0486206 , -0.00327868, -1.0466033 , -0.17672138,\n",
            "        0.6288623 , -0.49498945,  0.5086876 , -0.04644291, -0.7063386 ,\n",
            "       -0.6686005 , -0.02378834, -0.31872758,  0.6396901 ,  0.8592337 ],\n",
            "      dtype=float32), 'daughter': array([-0.771684  , -0.04856131, -0.6053528 ,  0.27900925, -0.7423682 ,\n",
            "        0.8874015 , -0.01429309, -0.7928145 , -0.8073028 , -0.69835913,\n",
            "        0.7235618 ,  0.53893167,  0.88882375,  0.9768295 , -0.16603641,\n",
            "        0.362894  ,  0.52743894,  0.28649408, -0.3852966 , -0.29485658],\n",
            "      dtype=float32), 'future': array([ 0.2259985 , -0.03862878, -0.03572724,  0.04142957,  0.41423625,\n",
            "        0.53294814, -0.9199925 ,  0.79638964, -0.6979564 ,  1.1812992 ,\n",
            "       -1.0730063 , -0.25166586, -0.41487727, -0.34264272,  0.7576317 ,\n",
            "       -0.5103774 , -0.6640754 ,  0.51877683, -0.313495  ,  0.3492615 ],\n",
            "      dtype=float32), 'king': array([-0.84960264, -0.21025224,  1.2811216 ,  1.0160817 , -0.26614273,\n",
            "        0.91312677, -1.091937  ,  0.748572  , -0.30709866, -0.08498497,\n",
            "        0.41648027, -1.0523841 ,  0.26163307, -0.20900579,  0.03786428,\n",
            "        0.4575155 , -0.88480896, -1.064354  ,  0.15594341,  0.8542616 ],\n",
            "      dtype=float32), 'man': array([ 0.687567  , -0.5205188 ,  0.71140856, -0.6233152 ,  0.30683205,\n",
            "        0.3165033 , -0.11104523,  0.27291986,  0.52407503,  0.8663698 ,\n",
            "       -1.2573698 , -0.2797404 , -0.06986589, -0.5785409 ,  1.1416852 ,\n",
            "       -0.11637917, -0.98539424,  0.74783415, -0.7277933 ,  0.27958578],\n",
            "      dtype=float32), 'prince': array([ 0.20632055, -0.7208446 ,  0.370875  , -0.89781284,  0.04108475,\n",
            "       -0.19124083, -0.7070067 ,  0.21758987, -0.07385264, -0.2666343 ,\n",
            "       -0.7389056 , -0.14499827, -0.20231907,  0.0036447 ,  0.5349012 ,\n",
            "        0.10530534, -1.0720279 ,  0.5642379 ,  0.11117207, -0.9465841 ],\n",
            "      dtype=float32), 'princess': array([-0.1581293 ,  0.45012787, -1.1116602 , -0.10398273,  0.48064423,\n",
            "       -1.1635598 ,  0.8134543 , -0.9759209 ,  0.3039377 ,  0.06515885,\n",
            "        0.24257424,  0.30005643, -0.5592973 , -0.23865712, -0.6894824 ,\n",
            "       -0.67487895,  1.4148722 , -0.12843291, -0.7169557 , -0.27841288],\n",
            "      dtype=float32), 'queen': array([-1.1771507 , -0.5638497 , -1.1857187 ,  0.30698982,  0.6131995 ,\n",
            "       -0.29657674,  0.29763415,  0.19699223,  0.10515296, -1.0406423 ,\n",
            "        0.7384927 ,  1.1545321 ,  0.9472891 , -0.29459786, -0.88224834,\n",
            "        0.69340295,  0.8633085 , -0.70775074, -1.2495883 , -1.2937489 ],\n",
            "      dtype=float32), 'son': array([-0.2633388 , -0.07522991,  0.4906259 ,  0.800511  ,  0.82584393,\n",
            "        0.36596152, -0.74825776,  0.90987   , -0.955742  ,  1.1606834 ,\n",
            "       -0.106336  , -0.511512  , -0.3573078 , -0.60212034,  0.3889675 ,\n",
            "       -0.40182889, -0.811802  , -0.60144395, -0.9466211 ,  1.0729873 ],\n",
            "      dtype=float32), 'strong': array([-0.60903776,  0.31653392,  1.0710886 ,  0.8817668 , -0.64268726,\n",
            "        0.31314045, -1.167588  ,  0.01901445, -1.0626535 ,  0.44568503,\n",
            "        0.33687657, -0.54331875,  0.15004113,  0.06995562, -0.44218042,\n",
            "       -0.28896266, -0.60665625, -0.03188686,  0.66888666,  0.75856   ],\n",
            "      dtype=float32)}\n",
            "{'beautiful': array([-1.1487963 , -0.10573176, -0.52509326,  0.37260234,  0.5203657 ,\n",
            "       -0.44500124,  0.17818356,  0.16218615,  0.28955048, -0.8727361 ,\n",
            "        1.0656337 ,  1.1990259 ,  1.0571758 , -0.24056365, -0.5372693 ,\n",
            "        0.45665812,  0.57167625, -0.90684557, -0.6978035 , -1.3489202 ],\n",
            "      dtype=float32), 'boy': array([-0.59885347,  0.02767531,  0.6490524 ,  0.37649786, -0.49374413,\n",
            "        0.5815432 , -1.0486206 , -0.00327868, -1.0466033 , -0.17672138,\n",
            "        0.6288623 , -0.49498945,  0.5086876 , -0.04644291, -0.7063386 ,\n",
            "       -0.6686005 , -0.02378834, -0.31872758,  0.6396901 ,  0.8592337 ],\n",
            "      dtype=float32), 'daughter': array([-0.771684  , -0.04856131, -0.6053528 ,  0.27900925, -0.7423682 ,\n",
            "        0.8874015 , -0.01429309, -0.7928145 , -0.8073028 , -0.69835913,\n",
            "        0.7235618 ,  0.53893167,  0.88882375,  0.9768295 , -0.16603641,\n",
            "        0.362894  ,  0.52743894,  0.28649408, -0.3852966 , -0.29485658],\n",
            "      dtype=float32), 'future': array([ 0.2259985 , -0.03862878, -0.03572724,  0.04142957,  0.41423625,\n",
            "        0.53294814, -0.9199925 ,  0.79638964, -0.6979564 ,  1.1812992 ,\n",
            "       -1.0730063 , -0.25166586, -0.41487727, -0.34264272,  0.7576317 ,\n",
            "       -0.5103774 , -0.6640754 ,  0.51877683, -0.313495  ,  0.3492615 ],\n",
            "      dtype=float32), 'king': array([-0.84960264, -0.21025224,  1.2811216 ,  1.0160817 , -0.26614273,\n",
            "        0.91312677, -1.091937  ,  0.748572  , -0.30709866, -0.08498497,\n",
            "        0.41648027, -1.0523841 ,  0.26163307, -0.20900579,  0.03786428,\n",
            "        0.4575155 , -0.88480896, -1.064354  ,  0.15594341,  0.8542616 ],\n",
            "      dtype=float32), 'man': array([ 0.687567  , -0.5205188 ,  0.71140856, -0.6233152 ,  0.30683205,\n",
            "        0.3165033 , -0.11104523,  0.27291986,  0.52407503,  0.8663698 ,\n",
            "       -1.2573698 , -0.2797404 , -0.06986589, -0.5785409 ,  1.1416852 ,\n",
            "       -0.11637917, -0.98539424,  0.74783415, -0.7277933 ,  0.27958578],\n",
            "      dtype=float32), 'prince': array([ 0.20632055, -0.7208446 ,  0.370875  , -0.89781284,  0.04108475,\n",
            "       -0.19124083, -0.7070067 ,  0.21758987, -0.07385264, -0.2666343 ,\n",
            "       -0.7389056 , -0.14499827, -0.20231907,  0.0036447 ,  0.5349012 ,\n",
            "        0.10530534, -1.0720279 ,  0.5642379 ,  0.11117207, -0.9465841 ],\n",
            "      dtype=float32), 'princess': array([-0.1581293 ,  0.45012787, -1.1116602 , -0.10398273,  0.48064423,\n",
            "       -1.1635598 ,  0.8134543 , -0.9759209 ,  0.3039377 ,  0.06515885,\n",
            "        0.24257424,  0.30005643, -0.5592973 , -0.23865712, -0.6894824 ,\n",
            "       -0.67487895,  1.4148722 , -0.12843291, -0.7169557 , -0.27841288],\n",
            "      dtype=float32), 'queen': array([-1.1771507 , -0.5638497 , -1.1857187 ,  0.30698982,  0.6131995 ,\n",
            "       -0.29657674,  0.29763415,  0.19699223,  0.10515296, -1.0406423 ,\n",
            "        0.7384927 ,  1.1545321 ,  0.9472891 , -0.29459786, -0.88224834,\n",
            "        0.69340295,  0.8633085 , -0.70775074, -1.2495883 , -1.2937489 ],\n",
            "      dtype=float32), 'son': array([-0.2633388 , -0.07522991,  0.4906259 ,  0.800511  ,  0.82584393,\n",
            "        0.36596152, -0.74825776,  0.90987   , -0.955742  ,  1.1606834 ,\n",
            "       -0.106336  , -0.511512  , -0.3573078 , -0.60212034,  0.3889675 ,\n",
            "       -0.40182889, -0.811802  , -0.60144395, -0.9466211 ,  1.0729873 ],\n",
            "      dtype=float32), 'strong': array([-0.60903776,  0.31653392,  1.0710886 ,  0.8817668 , -0.64268726,\n",
            "        0.31314045, -1.167588  ,  0.01901445, -1.0626535 ,  0.44568503,\n",
            "        0.33687657, -0.54331875,  0.15004113,  0.06995562, -0.44218042,\n",
            "       -0.28896266, -0.60665625, -0.03188686,  0.66888666,  0.75856   ],\n",
            "      dtype=float32), 'woman': array([-0.2503699 ,  0.6057447 , -0.795015  , -0.063847  , -0.07487995,\n",
            "       -0.6843335 ,  0.4168463 , -0.74465567,  0.01857153, -0.74510163,\n",
            "       -0.11525067,  0.10868991, -0.25525784, -0.09086452, -0.7210671 ,\n",
            "        0.06447382,  0.62439346,  0.41472703,  0.58777994, -0.6667689 ],\n",
            "      dtype=float32)}\n",
            "{'beautiful': array([-1.1487963 , -0.10573176, -0.52509326,  0.37260234,  0.5203657 ,\n",
            "       -0.44500124,  0.17818356,  0.16218615,  0.28955048, -0.8727361 ,\n",
            "        1.0656337 ,  1.1990259 ,  1.0571758 , -0.24056365, -0.5372693 ,\n",
            "        0.45665812,  0.57167625, -0.90684557, -0.6978035 , -1.3489202 ],\n",
            "      dtype=float32), 'boy': array([-0.59885347,  0.02767531,  0.6490524 ,  0.37649786, -0.49374413,\n",
            "        0.5815432 , -1.0486206 , -0.00327868, -1.0466033 , -0.17672138,\n",
            "        0.6288623 , -0.49498945,  0.5086876 , -0.04644291, -0.7063386 ,\n",
            "       -0.6686005 , -0.02378834, -0.31872758,  0.6396901 ,  0.8592337 ],\n",
            "      dtype=float32), 'daughter': array([-0.771684  , -0.04856131, -0.6053528 ,  0.27900925, -0.7423682 ,\n",
            "        0.8874015 , -0.01429309, -0.7928145 , -0.8073028 , -0.69835913,\n",
            "        0.7235618 ,  0.53893167,  0.88882375,  0.9768295 , -0.16603641,\n",
            "        0.362894  ,  0.52743894,  0.28649408, -0.3852966 , -0.29485658],\n",
            "      dtype=float32), 'future': array([ 0.2259985 , -0.03862878, -0.03572724,  0.04142957,  0.41423625,\n",
            "        0.53294814, -0.9199925 ,  0.79638964, -0.6979564 ,  1.1812992 ,\n",
            "       -1.0730063 , -0.25166586, -0.41487727, -0.34264272,  0.7576317 ,\n",
            "       -0.5103774 , -0.6640754 ,  0.51877683, -0.313495  ,  0.3492615 ],\n",
            "      dtype=float32), 'king': array([-0.84960264, -0.21025224,  1.2811216 ,  1.0160817 , -0.26614273,\n",
            "        0.91312677, -1.091937  ,  0.748572  , -0.30709866, -0.08498497,\n",
            "        0.41648027, -1.0523841 ,  0.26163307, -0.20900579,  0.03786428,\n",
            "        0.4575155 , -0.88480896, -1.064354  ,  0.15594341,  0.8542616 ],\n",
            "      dtype=float32), 'man': array([ 0.687567  , -0.5205188 ,  0.71140856, -0.6233152 ,  0.30683205,\n",
            "        0.3165033 , -0.11104523,  0.27291986,  0.52407503,  0.8663698 ,\n",
            "       -1.2573698 , -0.2797404 , -0.06986589, -0.5785409 ,  1.1416852 ,\n",
            "       -0.11637917, -0.98539424,  0.74783415, -0.7277933 ,  0.27958578],\n",
            "      dtype=float32), 'prince': array([ 0.20632055, -0.7208446 ,  0.370875  , -0.89781284,  0.04108475,\n",
            "       -0.19124083, -0.7070067 ,  0.21758987, -0.07385264, -0.2666343 ,\n",
            "       -0.7389056 , -0.14499827, -0.20231907,  0.0036447 ,  0.5349012 ,\n",
            "        0.10530534, -1.0720279 ,  0.5642379 ,  0.11117207, -0.9465841 ],\n",
            "      dtype=float32), 'princess': array([-0.1581293 ,  0.45012787, -1.1116602 , -0.10398273,  0.48064423,\n",
            "       -1.1635598 ,  0.8134543 , -0.9759209 ,  0.3039377 ,  0.06515885,\n",
            "        0.24257424,  0.30005643, -0.5592973 , -0.23865712, -0.6894824 ,\n",
            "       -0.67487895,  1.4148722 , -0.12843291, -0.7169557 , -0.27841288],\n",
            "      dtype=float32), 'queen': array([-1.1771507 , -0.5638497 , -1.1857187 ,  0.30698982,  0.6131995 ,\n",
            "       -0.29657674,  0.29763415,  0.19699223,  0.10515296, -1.0406423 ,\n",
            "        0.7384927 ,  1.1545321 ,  0.9472891 , -0.29459786, -0.88224834,\n",
            "        0.69340295,  0.8633085 , -0.70775074, -1.2495883 , -1.2937489 ],\n",
            "      dtype=float32), 'son': array([-0.2633388 , -0.07522991,  0.4906259 ,  0.800511  ,  0.82584393,\n",
            "        0.36596152, -0.74825776,  0.90987   , -0.955742  ,  1.1606834 ,\n",
            "       -0.106336  , -0.511512  , -0.3573078 , -0.60212034,  0.3889675 ,\n",
            "       -0.40182889, -0.811802  , -0.60144395, -0.9466211 ,  1.0729873 ],\n",
            "      dtype=float32), 'strong': array([-0.60903776,  0.31653392,  1.0710886 ,  0.8817668 , -0.64268726,\n",
            "        0.31314045, -1.167588  ,  0.01901445, -1.0626535 ,  0.44568503,\n",
            "        0.33687657, -0.54331875,  0.15004113,  0.06995562, -0.44218042,\n",
            "       -0.28896266, -0.60665625, -0.03188686,  0.66888666,  0.75856   ],\n",
            "      dtype=float32), 'woman': array([-0.2503699 ,  0.6057447 , -0.795015  , -0.063847  , -0.07487995,\n",
            "       -0.6843335 ,  0.4168463 , -0.74465567,  0.01857153, -0.74510163,\n",
            "       -0.11525067,  0.10868991, -0.25525784, -0.09086452, -0.7210671 ,\n",
            "        0.06447382,  0.62439346,  0.41472703,  0.58777994, -0.6667689 ],\n",
            "      dtype=float32)}\n"
          ]
        }
      ]
    },
    {
      "cell_type": "code",
      "source": [
        "import matplotlib.pyplot as plt\n",
        "\n",
        "# plt.figure(figsize = (10, 10))\n",
        "for word in list(words_dict.keys()):\n",
        "    coord = word_embeddings.get(word)\n",
        "    plt.scatter(coord[0], coord[1])\n",
        "    plt.annotate(word, (coord[0], coord[1]))\n",
        "\n",
        "plt.savefig('img.jpg')"
      ],
      "metadata": {
        "colab": {
          "base_uri": "https://localhost:8080/",
          "height": 430
        },
        "id": "ekRFI6PmL4Bq",
        "outputId": "9f95fb67-17b3-43dc-9286-58ab4d559b89"
      },
      "execution_count": null,
      "outputs": [
        {
          "output_type": "display_data",
          "data": {
            "text/plain": [
              "<Figure size 640x480 with 1 Axes>"
            ],
            "image/png": "[encoded data removed]"
          },
          "metadata": {}
        }
      ]
    }
  ]
}